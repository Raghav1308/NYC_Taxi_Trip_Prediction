{
 "cells": [
  {
   "cell_type": "code",
   "execution_count": 2,
   "id": "3781cb03",
   "metadata": {},
   "outputs": [],
   "source": [
    "%matplotlib inline\n",
    "import pandas as pd\n",
    "import numpy as np\n",
    "from datetime import timedelta\n",
    "import datetime as dt\n",
    "import matplotlib.pyplot as plt\n",
    "import seaborn as sns\n",
    "import warnings\n",
    "warnings.filterwarnings('ignore')"
   ]
  },
  {
   "cell_type": "code",
   "execution_count": 3,
   "id": "07090fe5",
   "metadata": {},
   "outputs": [],
   "source": [
    "df = pd.read_csv('C:/Users/RAGHAVJHA/Documents/Python Scripts/Resources-NYC Taxi Trip Project/nyc_taxi_trip_duration.csv')"
   ]
  },
  {
   "cell_type": "code",
   "execution_count": 4,
   "id": "b428ca16",
   "metadata": {},
   "outputs": [
    {
     "data": {
      "text/html": [
       "<div>\n",
       "<style scoped>\n",
       "    .dataframe tbody tr th:only-of-type {\n",
       "        vertical-align: middle;\n",
       "    }\n",
       "\n",
       "    .dataframe tbody tr th {\n",
       "        vertical-align: top;\n",
       "    }\n",
       "\n",
       "    .dataframe thead th {\n",
       "        text-align: right;\n",
       "    }\n",
       "</style>\n",
       "<table border=\"1\" class=\"dataframe\">\n",
       "  <thead>\n",
       "    <tr style=\"text-align: right;\">\n",
       "      <th></th>\n",
       "      <th>id</th>\n",
       "      <th>vendor_id</th>\n",
       "      <th>pickup_datetime</th>\n",
       "      <th>dropoff_datetime</th>\n",
       "      <th>passenger_count</th>\n",
       "      <th>pickup_longitude</th>\n",
       "      <th>pickup_latitude</th>\n",
       "      <th>dropoff_longitude</th>\n",
       "      <th>dropoff_latitude</th>\n",
       "      <th>store_and_fwd_flag</th>\n",
       "      <th>trip_duration</th>\n",
       "    </tr>\n",
       "  </thead>\n",
       "  <tbody>\n",
       "    <tr>\n",
       "      <th>0</th>\n",
       "      <td>id1080784</td>\n",
       "      <td>2</td>\n",
       "      <td>2016-02-29 16:40:21</td>\n",
       "      <td>2016-02-29 16:47:01</td>\n",
       "      <td>1</td>\n",
       "      <td>-73.953918</td>\n",
       "      <td>40.778873</td>\n",
       "      <td>-73.963875</td>\n",
       "      <td>40.771164</td>\n",
       "      <td>N</td>\n",
       "      <td>400</td>\n",
       "    </tr>\n",
       "    <tr>\n",
       "      <th>1</th>\n",
       "      <td>id0889885</td>\n",
       "      <td>1</td>\n",
       "      <td>2016-03-11 23:35:37</td>\n",
       "      <td>2016-03-11 23:53:57</td>\n",
       "      <td>2</td>\n",
       "      <td>-73.988312</td>\n",
       "      <td>40.731743</td>\n",
       "      <td>-73.994751</td>\n",
       "      <td>40.694931</td>\n",
       "      <td>N</td>\n",
       "      <td>1100</td>\n",
       "    </tr>\n",
       "    <tr>\n",
       "      <th>2</th>\n",
       "      <td>id0857912</td>\n",
       "      <td>2</td>\n",
       "      <td>2016-02-21 17:59:33</td>\n",
       "      <td>2016-02-21 18:26:48</td>\n",
       "      <td>2</td>\n",
       "      <td>-73.997314</td>\n",
       "      <td>40.721458</td>\n",
       "      <td>-73.948029</td>\n",
       "      <td>40.774918</td>\n",
       "      <td>N</td>\n",
       "      <td>1635</td>\n",
       "    </tr>\n",
       "    <tr>\n",
       "      <th>3</th>\n",
       "      <td>id3744273</td>\n",
       "      <td>2</td>\n",
       "      <td>2016-01-05 09:44:31</td>\n",
       "      <td>2016-01-05 10:03:32</td>\n",
       "      <td>6</td>\n",
       "      <td>-73.961670</td>\n",
       "      <td>40.759720</td>\n",
       "      <td>-73.956779</td>\n",
       "      <td>40.780628</td>\n",
       "      <td>N</td>\n",
       "      <td>1141</td>\n",
       "    </tr>\n",
       "    <tr>\n",
       "      <th>4</th>\n",
       "      <td>id0232939</td>\n",
       "      <td>1</td>\n",
       "      <td>2016-02-17 06:42:23</td>\n",
       "      <td>2016-02-17 06:56:31</td>\n",
       "      <td>1</td>\n",
       "      <td>-74.017120</td>\n",
       "      <td>40.708469</td>\n",
       "      <td>-73.988182</td>\n",
       "      <td>40.740631</td>\n",
       "      <td>N</td>\n",
       "      <td>848</td>\n",
       "    </tr>\n",
       "    <tr>\n",
       "      <th>5</th>\n",
       "      <td>id1918069</td>\n",
       "      <td>2</td>\n",
       "      <td>2016-02-14 18:31:42</td>\n",
       "      <td>2016-02-14 18:55:57</td>\n",
       "      <td>2</td>\n",
       "      <td>-73.993614</td>\n",
       "      <td>40.751884</td>\n",
       "      <td>-73.995422</td>\n",
       "      <td>40.723862</td>\n",
       "      <td>N</td>\n",
       "      <td>1455</td>\n",
       "    </tr>\n",
       "    <tr>\n",
       "      <th>6</th>\n",
       "      <td>id2429028</td>\n",
       "      <td>1</td>\n",
       "      <td>2016-04-20 20:30:14</td>\n",
       "      <td>2016-04-20 20:36:51</td>\n",
       "      <td>1</td>\n",
       "      <td>-73.965080</td>\n",
       "      <td>40.758915</td>\n",
       "      <td>-73.976807</td>\n",
       "      <td>40.764107</td>\n",
       "      <td>N</td>\n",
       "      <td>397</td>\n",
       "    </tr>\n",
       "    <tr>\n",
       "      <th>7</th>\n",
       "      <td>id1663798</td>\n",
       "      <td>2</td>\n",
       "      <td>2016-06-19 16:48:14</td>\n",
       "      <td>2016-06-19 17:06:35</td>\n",
       "      <td>1</td>\n",
       "      <td>-73.963890</td>\n",
       "      <td>40.765434</td>\n",
       "      <td>-73.872429</td>\n",
       "      <td>40.774200</td>\n",
       "      <td>N</td>\n",
       "      <td>1101</td>\n",
       "    </tr>\n",
       "    <tr>\n",
       "      <th>8</th>\n",
       "      <td>id2436943</td>\n",
       "      <td>2</td>\n",
       "      <td>2016-03-28 19:17:03</td>\n",
       "      <td>2016-03-28 19:48:29</td>\n",
       "      <td>2</td>\n",
       "      <td>-73.872887</td>\n",
       "      <td>40.774281</td>\n",
       "      <td>-73.979019</td>\n",
       "      <td>40.761879</td>\n",
       "      <td>N</td>\n",
       "      <td>1886</td>\n",
       "    </tr>\n",
       "    <tr>\n",
       "      <th>9</th>\n",
       "      <td>id2933909</td>\n",
       "      <td>1</td>\n",
       "      <td>2016-04-10 22:01:41</td>\n",
       "      <td>2016-04-10 22:25:30</td>\n",
       "      <td>1</td>\n",
       "      <td>-73.987823</td>\n",
       "      <td>40.740982</td>\n",
       "      <td>-73.999153</td>\n",
       "      <td>40.686451</td>\n",
       "      <td>N</td>\n",
       "      <td>1429</td>\n",
       "    </tr>\n",
       "  </tbody>\n",
       "</table>\n",
       "</div>"
      ],
      "text/plain": [
       "          id  vendor_id      pickup_datetime     dropoff_datetime  \\\n",
       "0  id1080784          2  2016-02-29 16:40:21  2016-02-29 16:47:01   \n",
       "1  id0889885          1  2016-03-11 23:35:37  2016-03-11 23:53:57   \n",
       "2  id0857912          2  2016-02-21 17:59:33  2016-02-21 18:26:48   \n",
       "3  id3744273          2  2016-01-05 09:44:31  2016-01-05 10:03:32   \n",
       "4  id0232939          1  2016-02-17 06:42:23  2016-02-17 06:56:31   \n",
       "5  id1918069          2  2016-02-14 18:31:42  2016-02-14 18:55:57   \n",
       "6  id2429028          1  2016-04-20 20:30:14  2016-04-20 20:36:51   \n",
       "7  id1663798          2  2016-06-19 16:48:14  2016-06-19 17:06:35   \n",
       "8  id2436943          2  2016-03-28 19:17:03  2016-03-28 19:48:29   \n",
       "9  id2933909          1  2016-04-10 22:01:41  2016-04-10 22:25:30   \n",
       "\n",
       "   passenger_count  pickup_longitude  pickup_latitude  dropoff_longitude  \\\n",
       "0                1        -73.953918        40.778873         -73.963875   \n",
       "1                2        -73.988312        40.731743         -73.994751   \n",
       "2                2        -73.997314        40.721458         -73.948029   \n",
       "3                6        -73.961670        40.759720         -73.956779   \n",
       "4                1        -74.017120        40.708469         -73.988182   \n",
       "5                2        -73.993614        40.751884         -73.995422   \n",
       "6                1        -73.965080        40.758915         -73.976807   \n",
       "7                1        -73.963890        40.765434         -73.872429   \n",
       "8                2        -73.872887        40.774281         -73.979019   \n",
       "9                1        -73.987823        40.740982         -73.999153   \n",
       "\n",
       "   dropoff_latitude store_and_fwd_flag  trip_duration  \n",
       "0         40.771164                  N            400  \n",
       "1         40.694931                  N           1100  \n",
       "2         40.774918                  N           1635  \n",
       "3         40.780628                  N           1141  \n",
       "4         40.740631                  N            848  \n",
       "5         40.723862                  N           1455  \n",
       "6         40.764107                  N            397  \n",
       "7         40.774200                  N           1101  \n",
       "8         40.761879                  N           1886  \n",
       "9         40.686451                  N           1429  "
      ]
     },
     "execution_count": 4,
     "metadata": {},
     "output_type": "execute_result"
    }
   ],
   "source": [
    "df.head(10)"
   ]
  },
  {
   "cell_type": "code",
   "execution_count": 5,
   "id": "1730891e",
   "metadata": {},
   "outputs": [
    {
     "data": {
      "text/plain": [
       "id                    0\n",
       "vendor_id             0\n",
       "pickup_datetime       0\n",
       "dropoff_datetime      0\n",
       "passenger_count       0\n",
       "pickup_longitude      0\n",
       "pickup_latitude       0\n",
       "dropoff_longitude     0\n",
       "dropoff_latitude      0\n",
       "store_and_fwd_flag    0\n",
       "trip_duration         0\n",
       "dtype: int64"
      ]
     },
     "execution_count": 5,
     "metadata": {},
     "output_type": "execute_result"
    }
   ],
   "source": [
    "df.isna().sum()"
   ]
  },
  {
   "cell_type": "markdown",
   "id": "24419d21",
   "metadata": {},
   "source": [
    "0 Missing Values in the dataset!"
   ]
  },
  {
   "cell_type": "code",
   "execution_count": 6,
   "id": "2e008272",
   "metadata": {},
   "outputs": [
    {
     "data": {
      "text/plain": [
       "(0, 12)"
      ]
     },
     "execution_count": 6,
     "metadata": {},
     "output_type": "execute_result"
    }
   ],
   "source": [
    "df['pickup_datetime'] = pd.to_datetime(df.pickup_datetime)\n",
    "df['dropoff_datetime'] = pd.to_datetime(df.dropoff_datetime)\n",
    "\n",
    "df['store_and_fwd_flag'] = 1 * (df.store_and_fwd_flag.values == 'Y')\n",
    "\n",
    "df['check_trip_duration'] = (df['dropoff_datetime'] - df['pickup_datetime']).map(lambda x: x.total_seconds())\n",
    "\n",
    "duration_diff = df[np.abs(df['check_trip_duration'].values - df['trip_duration'].values) > 1]\n",
    "duration_diff.shape"
   ]
  },
  {
   "cell_type": "markdown",
   "id": "306cbb1d",
   "metadata": {},
   "source": [
    "No inconsistency in data with respect to the drop location and trip duration."
   ]
  },
  {
   "cell_type": "code",
   "execution_count": 7,
   "id": "ea85c40b",
   "metadata": {},
   "outputs": [
    {
     "data": {
      "text/plain": [
       "count    202.589444\n",
       "mean       0.264508\n",
       "std        1.073507\n",
       "min        0.000278\n",
       "25%        0.110278\n",
       "50%        0.184167\n",
       "75%        0.298611\n",
       "max      538.815556\n",
       "Name: trip_duration, dtype: float64"
      ]
     },
     "execution_count": 7,
     "metadata": {},
     "output_type": "execute_result"
    }
   ],
   "source": [
    "df['trip_duration'].describe()/3600"
   ]
  },
  {
   "cell_type": "code",
   "execution_count": 8,
   "id": "52f9802b",
   "metadata": {},
   "outputs": [
    {
     "data": {
      "image/png": "[encoded data removed]",
      "text/plain": [
       "<Figure size 432x288 with 1 Axes>"
      ]
     },
     "metadata": {
      "needs_background": "light"
     },
     "output_type": "display_data"
    }
   ],
   "source": [
    "df['trip_duration_log'] = np.log(df['trip_duration'].values + 1)\n",
    "sns.distplot(df['trip_duration_log'], kde = False, bins = 200)\n",
    "plt.show()"
   ]
  },
  {
   "cell_type": "code",
   "execution_count": 9,
   "id": "17aa3392",
   "metadata": {},
   "outputs": [
    {
     "data": {
      "text/plain": [
       "id                             object\n",
       "vendor_id                       int64\n",
       "pickup_datetime        datetime64[ns]\n",
       "dropoff_datetime       datetime64[ns]\n",
       "passenger_count                 int64\n",
       "pickup_longitude              float64\n",
       "pickup_latitude               float64\n",
       "dropoff_longitude             float64\n",
       "dropoff_latitude              float64\n",
       "store_and_fwd_flag              int32\n",
       "trip_duration                   int64\n",
       "check_trip_duration           float64\n",
       "trip_duration_log             float64\n",
       "dtype: object"
      ]
     },
     "execution_count": 9,
     "metadata": {},
     "output_type": "execute_result"
    }
   ],
   "source": [
    "df.dtypes"
   ]
  },
  {
   "cell_type": "markdown",
   "id": "69e470a7",
   "metadata": {},
   "source": [
    "# Univariate Analysis"
   ]
  },
  {
   "cell_type": "code",
   "execution_count": 10,
   "id": "6ff07479",
   "metadata": {},
   "outputs": [
    {
     "data": {
      "image/png": "[encoded data removed]",
      "text/plain": [
       "<Figure size 1584x432 with 1 Axes>"
      ]
     },
     "metadata": {
      "needs_background": "light"
     },
     "output_type": "display_data"
    }
   ],
   "source": [
    "plt.figure(figsize=(22,6))\n",
    "\n",
    "plt.subplot(131)\n",
    "sns.countplot(df['passenger_count'])\n",
    "plt.xlabel('Passenger Count')\n",
    "plt.ylabel('Frequency')\n",
    "plt.show()"
   ]
  },
  {
   "cell_type": "markdown",
   "id": "e2716858",
   "metadata": {},
   "source": [
    "Passenger with count 1 has most number of trips."
   ]
  },
  {
   "cell_type": "code",
   "execution_count": 11,
   "id": "7bce7d4b",
   "metadata": {},
   "outputs": [
    {
     "data": {
      "image/png": "[encoded data removed]",
      "text/plain": [
       "<Figure size 1584x432 with 1 Axes>"
      ]
     },
     "metadata": {
      "needs_background": "light"
     },
     "output_type": "display_data"
    }
   ],
   "source": [
    "plt.figure(figsize=(22,6))\n",
    "\n",
    "plt.subplot(132)\n",
    "sns.countplot(df['vendor_id'])\n",
    "plt.xlabel('Vendor id')\n",
    "plt.ylabel('Frequency')\n",
    "plt.show()"
   ]
  },
  {
   "cell_type": "markdown",
   "id": "580fd7c3",
   "metadata": {},
   "source": [
    "Vendor 2 has more number of trips assigned than vendor 1"
   ]
  },
  {
   "cell_type": "code",
   "execution_count": 12,
   "id": "3c0af3bc",
   "metadata": {},
   "outputs": [
    {
     "data": {
      "image/png": "[encoded data removed]",
      "text/plain": [
       "<Figure size 1584x432 with 1 Axes>"
      ]
     },
     "metadata": {
      "needs_background": "light"
     },
     "output_type": "display_data"
    }
   ],
   "source": [
    "plt.figure(figsize=(22,6))\n",
    "plt.subplot(133)\n",
    "sns.countplot(df['store_and_fwd_flag'])\n",
    "plt.xlabel('store_and_fwd_flag')\n",
    "plt.ylabel('Frequency')\n",
    "plt.show()"
   ]
  },
  {
   "cell_type": "markdown",
   "id": "014bf5fd",
   "metadata": {},
   "source": [
    "The store_and_fwd_flag values indicates that there is almost no storing taking place."
   ]
  },
  {
   "cell_type": "code",
   "execution_count": 13,
   "id": "0ae99919",
   "metadata": {},
   "outputs": [
    {
     "data": {
      "text/plain": [
       "(Timestamp('2016-01-01 00:01:14'), Timestamp('2016-06-30 23:59:37'))"
      ]
     },
     "execution_count": 13,
     "metadata": {},
     "output_type": "execute_result"
    }
   ],
   "source": [
    "df['pickup_datetime'].min(), df['pickup_datetime'].max()"
   ]
  },
  {
   "cell_type": "markdown",
   "id": "2ed1bc4e",
   "metadata": {},
   "source": [
    "The min and max value indicates that the trips are for first six months of 2016."
   ]
  },
  {
   "cell_type": "code",
   "execution_count": 14,
   "id": "0bf2b616",
   "metadata": {},
   "outputs": [],
   "source": [
    "df['dayofweek'] = df['pickup_datetime'].dt.weekday\n",
    "df['hourofday'] = df['pickup_datetime'].dt.hour"
   ]
  },
  {
   "cell_type": "code",
   "execution_count": 15,
   "id": "b01b3428",
   "metadata": {},
   "outputs": [
    {
     "data": {
      "image/png": "[encoded data removed]",
      "text/plain": [
       "<Figure size 1584x432 with 1 Axes>"
      ]
     },
     "metadata": {
      "needs_background": "light"
     },
     "output_type": "display_data"
    }
   ],
   "source": [
    "plt.figure(figsize=(22,6))\n",
    "\n",
    "plt.subplot(121)\n",
    "sns.countplot(df['dayofweek'])\n",
    "plt.xlabel('Week Day')\n",
    "plt.ylabel('Total no. of Pickups')\n",
    "plt.show()"
   ]
  },
  {
   "cell_type": "markdown",
   "id": "5f0f6604",
   "metadata": {},
   "source": [
    "Here 0 is sunday whereas 6 is saturday and we can see the peak that is on Thursday(4) which is higher than on weekends."
   ]
  },
  {
   "cell_type": "code",
   "execution_count": 16,
   "id": "00b56247",
   "metadata": {},
   "outputs": [
    {
     "data": {
      "image/png": "[encoded data removed]",
      "text/plain": [
       "<Figure size 1584x432 with 1 Axes>"
      ]
     },
     "metadata": {
      "needs_background": "light"
     },
     "output_type": "display_data"
    }
   ],
   "source": [
    "plt.figure(figsize=(22,6))\n",
    "\n",
    "plt.subplot(122)\n",
    "sns.countplot(df['hourofday'])\n",
    "plt.xlabel('Hour of Day')\n",
    "plt.ylabel('Total no. of pickups')\n",
    "plt.show()"
   ]
  },
  {
   "cell_type": "markdown",
   "id": "8be5c3e0",
   "metadata": {},
   "source": [
    "Here, the number of pickups is the highest in late evenings and low in morning hours."
   ]
  },
  {
   "cell_type": "code",
   "execution_count": 29,
   "id": "d97b0bde",
   "metadata": {},
   "outputs": [
    {
     "data": {
      "image/png": "[encoded data removed]",
      "text/plain": [
       "<Figure size 1584x432 with 1 Axes>"
      ]
     },
     "metadata": {
      "needs_background": "light"
     },
     "output_type": "display_data"
    }
   ],
   "source": [
    "plt.figure(figsize=(22,6))\n",
    "\n",
    "sns.countplot(df.pickup_datetime.dt.day)\n",
    "plt.xlabel('Days')\n",
    "plt.ylabel('Trips')\n",
    "plt.show()"
   ]
  },
  {
   "cell_type": "markdown",
   "id": "2f5e33cb",
   "metadata": {},
   "source": [
    "Here, we can see that number of trips are highest from day 4 to day 16 while low on 30th and 31st day."
   ]
  },
  {
   "cell_type": "code",
   "execution_count": 31,
   "id": "eb34e2f6",
   "metadata": {},
   "outputs": [
    {
     "data": {
      "image/png": "[encoded data removed]",
      "text/plain": [
       "<Figure size 1584x432 with 1 Axes>"
      ]
     },
     "metadata": {
      "needs_background": "light"
     },
     "output_type": "display_data"
    }
   ],
   "source": [
    "plt.figure(figsize=(22,6))\n",
    "\n",
    "sns.countplot(df.pickup_datetime.dt.month)\n",
    "plt.xlabel('Months')\n",
    "plt.ylabel('Trips')\n",
    "plt.show()"
   ]
  },
  {
   "cell_type": "markdown",
   "id": "e2c781da",
   "metadata": {},
   "source": [
    "From the months, we can see that the trips took is highest in the month of March. The number 1 to 6 represents months from Jan to June."
   ]
  },
  {
   "cell_type": "code",
   "execution_count": 32,
   "id": "97562215",
   "metadata": {},
   "outputs": [
    {
     "data": {
      "image/png": "[encoded data removed]",
      "text/plain": [
       "<Figure size 720x720 with 4 Axes>"
      ]
     },
     "metadata": {},
     "output_type": "display_data"
    }
   ],
   "source": [
    "sns.set(style=\"white\", palette=\"muted\", color_codes=True)\n",
    "f, axes = plt.subplots(2,2,figsize=(10, 10), sharex=False, sharey=False)\n",
    "sns.despine(left=True)\n",
    "sns.distplot(df['pickup_latitude'].values, label = 'pickup_latitude',color=\"r\",bins = 100, ax=axes[0,0])\n",
    "sns.distplot(df['pickup_longitude'].values, label = 'pickup_longitude',color=\"b\",bins =100, ax=axes[1,0])\n",
    "sns.distplot(df['dropoff_latitude'].values, label = 'dropoff_latitude',color=\"r\",bins =100, ax=axes[0,1])\n",
    "sns.distplot(df['dropoff_longitude'].values, label = 'dropoff_longitude',color=\"b\",bins =100, ax=axes[1,1])\n",
    "plt.setp(axes, yticks=[])\n",
    "plt.tight_layout()\n",
    "plt.show()"
   ]
  },
  {
   "cell_type": "markdown",
   "id": "44bc7fc5",
   "metadata": {},
   "source": [
    "Blue: Pickup and dropoff longitude | Red: Pickup and dropoff latitude\n",
    "The pick and drop latitude is around 40 to 41. The pick and drop longitude is around -74 to -73"
   ]
  },
  {
   "cell_type": "markdown",
   "id": "3acf8f4b",
   "metadata": {},
   "source": [
    "# Bivariate Analysis"
   ]
  },
  {
   "cell_type": "code",
   "execution_count": 40,
   "id": "b589d6d7",
   "metadata": {},
   "outputs": [
    {
     "data": {
      "image/png": "[encoded data removed]",
      "text/plain": [
       "<Figure size 360x360 with 1 Axes>"
      ]
     },
     "metadata": {},
     "output_type": "display_data"
    }
   ],
   "source": [
    "sns.relplot(x='passenger_count',y='trip_duration',data=df,kind='scatter')\n",
    "plt.title('Relationship between passenger_count and trip_duration')\n",
    "plt.show()"
   ]
  },
  {
   "cell_type": "code",
   "execution_count": 41,
   "id": "b8462965",
   "metadata": {},
   "outputs": [],
   "source": [
    "# Removing the outlier from the trip_duration\n",
    "df = df[df.trip_duration!= df.trip_duration.max()]"
   ]
  },
  {
   "cell_type": "markdown",
   "id": "50cbe930",
   "metadata": {},
   "source": [
    "From the plot, we can see that there is outlier, lets check in the data."
   ]
  },
  {
   "cell_type": "code",
   "execution_count": 43,
   "id": "5124ced6",
   "metadata": {},
   "outputs": [
    {
     "data": {
      "text/html": [
       "<div>\n",
       "<style scoped>\n",
       "    .dataframe tbody tr th:only-of-type {\n",
       "        vertical-align: middle;\n",
       "    }\n",
       "\n",
       "    .dataframe tbody tr th {\n",
       "        vertical-align: top;\n",
       "    }\n",
       "\n",
       "    .dataframe thead th {\n",
       "        text-align: right;\n",
       "    }\n",
       "</style>\n",
       "<table border=\"1\" class=\"dataframe\">\n",
       "  <thead>\n",
       "    <tr style=\"text-align: right;\">\n",
       "      <th></th>\n",
       "      <th>id</th>\n",
       "      <th>vendor_id</th>\n",
       "      <th>pickup_datetime</th>\n",
       "      <th>dropoff_datetime</th>\n",
       "      <th>passenger_count</th>\n",
       "      <th>pickup_longitude</th>\n",
       "      <th>pickup_latitude</th>\n",
       "      <th>dropoff_longitude</th>\n",
       "      <th>dropoff_latitude</th>\n",
       "      <th>store_and_fwd_flag</th>\n",
       "      <th>trip_duration</th>\n",
       "      <th>check_trip_duration</th>\n",
       "      <th>trip_duration_log</th>\n",
       "      <th>dayofweek</th>\n",
       "      <th>hourofday</th>\n",
       "    </tr>\n",
       "  </thead>\n",
       "  <tbody>\n",
       "    <tr>\n",
       "      <th>3572</th>\n",
       "      <td>id3364866</td>\n",
       "      <td>1</td>\n",
       "      <td>2016-02-13 14:04:20</td>\n",
       "      <td>2016-02-13 14:21:29</td>\n",
       "      <td>0</td>\n",
       "      <td>-73.990479</td>\n",
       "      <td>40.742004</td>\n",
       "      <td>-73.989243</td>\n",
       "      <td>40.763680</td>\n",
       "      <td>0</td>\n",
       "      <td>1029</td>\n",
       "      <td>1029.0</td>\n",
       "      <td>6.937314</td>\n",
       "      <td>5</td>\n",
       "      <td>14</td>\n",
       "    </tr>\n",
       "    <tr>\n",
       "      <th>23847</th>\n",
       "      <td>id3485118</td>\n",
       "      <td>1</td>\n",
       "      <td>2016-05-11 19:15:57</td>\n",
       "      <td>2016-05-11 19:32:18</td>\n",
       "      <td>0</td>\n",
       "      <td>-73.987572</td>\n",
       "      <td>40.754566</td>\n",
       "      <td>-73.972031</td>\n",
       "      <td>40.762836</td>\n",
       "      <td>0</td>\n",
       "      <td>981</td>\n",
       "      <td>981.0</td>\n",
       "      <td>6.889591</td>\n",
       "      <td>2</td>\n",
       "      <td>19</td>\n",
       "    </tr>\n",
       "    <tr>\n",
       "      <th>45987</th>\n",
       "      <td>id2571672</td>\n",
       "      <td>1</td>\n",
       "      <td>2016-03-06 05:24:55</td>\n",
       "      <td>2016-03-06 05:25:00</td>\n",
       "      <td>0</td>\n",
       "      <td>-73.979698</td>\n",
       "      <td>40.761196</td>\n",
       "      <td>-73.979698</td>\n",
       "      <td>40.761196</td>\n",
       "      <td>1</td>\n",
       "      <td>5</td>\n",
       "      <td>5.0</td>\n",
       "      <td>1.791759</td>\n",
       "      <td>6</td>\n",
       "      <td>5</td>\n",
       "    </tr>\n",
       "    <tr>\n",
       "      <th>76998</th>\n",
       "      <td>id1253169</td>\n",
       "      <td>1</td>\n",
       "      <td>2016-02-28 01:08:48</td>\n",
       "      <td>2016-02-28 01:09:01</td>\n",
       "      <td>0</td>\n",
       "      <td>-74.035942</td>\n",
       "      <td>40.736488</td>\n",
       "      <td>-74.035942</td>\n",
       "      <td>40.736492</td>\n",
       "      <td>0</td>\n",
       "      <td>13</td>\n",
       "      <td>13.0</td>\n",
       "      <td>2.639057</td>\n",
       "      <td>6</td>\n",
       "      <td>1</td>\n",
       "    </tr>\n",
       "    <tr>\n",
       "      <th>101709</th>\n",
       "      <td>id1220914</td>\n",
       "      <td>2</td>\n",
       "      <td>2016-01-17 20:51:55</td>\n",
       "      <td>2016-01-17 20:52:43</td>\n",
       "      <td>0</td>\n",
       "      <td>-73.959999</td>\n",
       "      <td>40.766861</td>\n",
       "      <td>-73.960106</td>\n",
       "      <td>40.766911</td>\n",
       "      <td>0</td>\n",
       "      <td>48</td>\n",
       "      <td>48.0</td>\n",
       "      <td>3.891820</td>\n",
       "      <td>6</td>\n",
       "      <td>20</td>\n",
       "    </tr>\n",
       "    <tr>\n",
       "      <th>186050</th>\n",
       "      <td>id3645383</td>\n",
       "      <td>2</td>\n",
       "      <td>2016-01-01 05:01:32</td>\n",
       "      <td>2016-01-01 05:01:36</td>\n",
       "      <td>0</td>\n",
       "      <td>-73.993134</td>\n",
       "      <td>40.757473</td>\n",
       "      <td>-73.993294</td>\n",
       "      <td>40.757538</td>\n",
       "      <td>0</td>\n",
       "      <td>4</td>\n",
       "      <td>4.0</td>\n",
       "      <td>1.609438</td>\n",
       "      <td>4</td>\n",
       "      <td>5</td>\n",
       "    </tr>\n",
       "    <tr>\n",
       "      <th>186913</th>\n",
       "      <td>id3494250</td>\n",
       "      <td>1</td>\n",
       "      <td>2016-04-02 02:32:10</td>\n",
       "      <td>2016-04-02 02:50:51</td>\n",
       "      <td>0</td>\n",
       "      <td>-74.005089</td>\n",
       "      <td>40.729038</td>\n",
       "      <td>-74.032486</td>\n",
       "      <td>40.619579</td>\n",
       "      <td>0</td>\n",
       "      <td>1121</td>\n",
       "      <td>1121.0</td>\n",
       "      <td>7.022868</td>\n",
       "      <td>5</td>\n",
       "      <td>2</td>\n",
       "    </tr>\n",
       "    <tr>\n",
       "      <th>194926</th>\n",
       "      <td>id1205792</td>\n",
       "      <td>1</td>\n",
       "      <td>2016-03-11 12:33:17</td>\n",
       "      <td>2016-03-11 13:09:48</td>\n",
       "      <td>0</td>\n",
       "      <td>-73.982063</td>\n",
       "      <td>40.763798</td>\n",
       "      <td>-74.188072</td>\n",
       "      <td>40.694042</td>\n",
       "      <td>0</td>\n",
       "      <td>2191</td>\n",
       "      <td>2191.0</td>\n",
       "      <td>7.692570</td>\n",
       "      <td>4</td>\n",
       "      <td>12</td>\n",
       "    </tr>\n",
       "    <tr>\n",
       "      <th>231010</th>\n",
       "      <td>id0959777</td>\n",
       "      <td>2</td>\n",
       "      <td>2016-03-01 19:11:26</td>\n",
       "      <td>2016-03-01 19:11:30</td>\n",
       "      <td>0</td>\n",
       "      <td>-74.003777</td>\n",
       "      <td>40.738186</td>\n",
       "      <td>-74.003807</td>\n",
       "      <td>40.738174</td>\n",
       "      <td>0</td>\n",
       "      <td>4</td>\n",
       "      <td>4.0</td>\n",
       "      <td>1.609438</td>\n",
       "      <td>1</td>\n",
       "      <td>19</td>\n",
       "    </tr>\n",
       "    <tr>\n",
       "      <th>247692</th>\n",
       "      <td>id2891366</td>\n",
       "      <td>1</td>\n",
       "      <td>2016-02-18 21:26:15</td>\n",
       "      <td>2016-02-18 21:28:00</td>\n",
       "      <td>0</td>\n",
       "      <td>-73.983543</td>\n",
       "      <td>40.716404</td>\n",
       "      <td>-73.983543</td>\n",
       "      <td>40.716404</td>\n",
       "      <td>0</td>\n",
       "      <td>105</td>\n",
       "      <td>105.0</td>\n",
       "      <td>4.663439</td>\n",
       "      <td>3</td>\n",
       "      <td>21</td>\n",
       "    </tr>\n",
       "    <tr>\n",
       "      <th>272114</th>\n",
       "      <td>id0878599</td>\n",
       "      <td>1</td>\n",
       "      <td>2016-01-25 08:46:58</td>\n",
       "      <td>2016-01-25 09:41:01</td>\n",
       "      <td>0</td>\n",
       "      <td>-73.928078</td>\n",
       "      <td>40.736412</td>\n",
       "      <td>-73.985519</td>\n",
       "      <td>40.758972</td>\n",
       "      <td>0</td>\n",
       "      <td>3243</td>\n",
       "      <td>3243.0</td>\n",
       "      <td>8.084562</td>\n",
       "      <td>0</td>\n",
       "      <td>8</td>\n",
       "    </tr>\n",
       "    <tr>\n",
       "      <th>315015</th>\n",
       "      <td>id1846091</td>\n",
       "      <td>2</td>\n",
       "      <td>2016-01-16 00:50:18</td>\n",
       "      <td>2016-01-16 00:51:36</td>\n",
       "      <td>0</td>\n",
       "      <td>-73.919167</td>\n",
       "      <td>40.686878</td>\n",
       "      <td>-73.919151</td>\n",
       "      <td>40.686874</td>\n",
       "      <td>0</td>\n",
       "      <td>78</td>\n",
       "      <td>78.0</td>\n",
       "      <td>4.369448</td>\n",
       "      <td>5</td>\n",
       "      <td>0</td>\n",
       "    </tr>\n",
       "    <tr>\n",
       "      <th>319175</th>\n",
       "      <td>id2247129</td>\n",
       "      <td>2</td>\n",
       "      <td>2016-01-13 11:50:12</td>\n",
       "      <td>2016-01-13 12:16:08</td>\n",
       "      <td>0</td>\n",
       "      <td>-73.965027</td>\n",
       "      <td>40.775269</td>\n",
       "      <td>-73.973450</td>\n",
       "      <td>40.840618</td>\n",
       "      <td>0</td>\n",
       "      <td>1556</td>\n",
       "      <td>1556.0</td>\n",
       "      <td>7.350516</td>\n",
       "      <td>2</td>\n",
       "      <td>11</td>\n",
       "    </tr>\n",
       "    <tr>\n",
       "      <th>329274</th>\n",
       "      <td>id3762593</td>\n",
       "      <td>1</td>\n",
       "      <td>2016-01-04 12:24:17</td>\n",
       "      <td>2016-01-04 13:01:48</td>\n",
       "      <td>0</td>\n",
       "      <td>-73.815224</td>\n",
       "      <td>40.700081</td>\n",
       "      <td>-73.950699</td>\n",
       "      <td>40.755222</td>\n",
       "      <td>0</td>\n",
       "      <td>2251</td>\n",
       "      <td>2251.0</td>\n",
       "      <td>7.719574</td>\n",
       "      <td>0</td>\n",
       "      <td>12</td>\n",
       "    </tr>\n",
       "    <tr>\n",
       "      <th>333621</th>\n",
       "      <td>id2029944</td>\n",
       "      <td>1</td>\n",
       "      <td>2016-03-11 09:38:54</td>\n",
       "      <td>2016-03-11 09:38:57</td>\n",
       "      <td>0</td>\n",
       "      <td>-73.790398</td>\n",
       "      <td>40.655457</td>\n",
       "      <td>-73.790398</td>\n",
       "      <td>40.655457</td>\n",
       "      <td>0</td>\n",
       "      <td>3</td>\n",
       "      <td>3.0</td>\n",
       "      <td>1.386294</td>\n",
       "      <td>4</td>\n",
       "      <td>9</td>\n",
       "    </tr>\n",
       "    <tr>\n",
       "      <th>344350</th>\n",
       "      <td>id1376024</td>\n",
       "      <td>1</td>\n",
       "      <td>2016-04-01 16:10:32</td>\n",
       "      <td>2016-04-01 16:11:01</td>\n",
       "      <td>0</td>\n",
       "      <td>-73.951973</td>\n",
       "      <td>40.733479</td>\n",
       "      <td>-73.951996</td>\n",
       "      <td>40.733471</td>\n",
       "      <td>0</td>\n",
       "      <td>29</td>\n",
       "      <td>29.0</td>\n",
       "      <td>3.401197</td>\n",
       "      <td>4</td>\n",
       "      <td>16</td>\n",
       "    </tr>\n",
       "    <tr>\n",
       "      <th>370723</th>\n",
       "      <td>id3347660</td>\n",
       "      <td>2</td>\n",
       "      <td>2016-05-29 01:26:30</td>\n",
       "      <td>2016-05-29 01:26:49</td>\n",
       "      <td>0</td>\n",
       "      <td>-73.932732</td>\n",
       "      <td>40.856438</td>\n",
       "      <td>-73.932762</td>\n",
       "      <td>40.856438</td>\n",
       "      <td>0</td>\n",
       "      <td>19</td>\n",
       "      <td>19.0</td>\n",
       "      <td>2.995732</td>\n",
       "      <td>6</td>\n",
       "      <td>1</td>\n",
       "    </tr>\n",
       "    <tr>\n",
       "      <th>377817</th>\n",
       "      <td>id3368191</td>\n",
       "      <td>1</td>\n",
       "      <td>2016-05-08 23:38:09</td>\n",
       "      <td>2016-05-08 23:38:21</td>\n",
       "      <td>0</td>\n",
       "      <td>-73.934937</td>\n",
       "      <td>40.740841</td>\n",
       "      <td>-73.934929</td>\n",
       "      <td>40.740837</td>\n",
       "      <td>0</td>\n",
       "      <td>12</td>\n",
       "      <td>12.0</td>\n",
       "      <td>2.564949</td>\n",
       "      <td>6</td>\n",
       "      <td>23</td>\n",
       "    </tr>\n",
       "    <tr>\n",
       "      <th>378238</th>\n",
       "      <td>id1593144</td>\n",
       "      <td>1</td>\n",
       "      <td>2016-01-08 21:55:27</td>\n",
       "      <td>2016-01-08 22:01:52</td>\n",
       "      <td>0</td>\n",
       "      <td>-73.980957</td>\n",
       "      <td>40.742142</td>\n",
       "      <td>-73.986122</td>\n",
       "      <td>40.729488</td>\n",
       "      <td>0</td>\n",
       "      <td>385</td>\n",
       "      <td>385.0</td>\n",
       "      <td>5.955837</td>\n",
       "      <td>4</td>\n",
       "      <td>21</td>\n",
       "    </tr>\n",
       "    <tr>\n",
       "      <th>407850</th>\n",
       "      <td>id3267095</td>\n",
       "      <td>2</td>\n",
       "      <td>2016-02-13 01:33:02</td>\n",
       "      <td>2016-02-13 01:33:06</td>\n",
       "      <td>0</td>\n",
       "      <td>-73.979118</td>\n",
       "      <td>40.760181</td>\n",
       "      <td>-73.979111</td>\n",
       "      <td>40.760159</td>\n",
       "      <td>0</td>\n",
       "      <td>4</td>\n",
       "      <td>4.0</td>\n",
       "      <td>1.609438</td>\n",
       "      <td>5</td>\n",
       "      <td>1</td>\n",
       "    </tr>\n",
       "    <tr>\n",
       "      <th>423670</th>\n",
       "      <td>id0662963</td>\n",
       "      <td>2</td>\n",
       "      <td>2016-02-13 04:41:13</td>\n",
       "      <td>2016-02-13 04:41:22</td>\n",
       "      <td>0</td>\n",
       "      <td>-73.945633</td>\n",
       "      <td>40.803673</td>\n",
       "      <td>-73.945625</td>\n",
       "      <td>40.803661</td>\n",
       "      <td>0</td>\n",
       "      <td>9</td>\n",
       "      <td>9.0</td>\n",
       "      <td>2.302585</td>\n",
       "      <td>5</td>\n",
       "      <td>4</td>\n",
       "    </tr>\n",
       "    <tr>\n",
       "      <th>427067</th>\n",
       "      <td>id1656232</td>\n",
       "      <td>1</td>\n",
       "      <td>2016-04-21 06:04:56</td>\n",
       "      <td>2016-04-21 06:05:18</td>\n",
       "      <td>0</td>\n",
       "      <td>-73.978149</td>\n",
       "      <td>40.750183</td>\n",
       "      <td>-73.978104</td>\n",
       "      <td>40.750477</td>\n",
       "      <td>0</td>\n",
       "      <td>22</td>\n",
       "      <td>22.0</td>\n",
       "      <td>3.135494</td>\n",
       "      <td>3</td>\n",
       "      <td>6</td>\n",
       "    </tr>\n",
       "    <tr>\n",
       "      <th>476153</th>\n",
       "      <td>id0796773</td>\n",
       "      <td>1</td>\n",
       "      <td>2016-02-07 17:23:48</td>\n",
       "      <td>2016-02-07 17:23:57</td>\n",
       "      <td>0</td>\n",
       "      <td>-73.954941</td>\n",
       "      <td>40.687866</td>\n",
       "      <td>-73.954742</td>\n",
       "      <td>40.687862</td>\n",
       "      <td>0</td>\n",
       "      <td>9</td>\n",
       "      <td>9.0</td>\n",
       "      <td>2.302585</td>\n",
       "      <td>6</td>\n",
       "      <td>17</td>\n",
       "    </tr>\n",
       "    <tr>\n",
       "      <th>501596</th>\n",
       "      <td>id3066152</td>\n",
       "      <td>1</td>\n",
       "      <td>2016-02-01 00:27:13</td>\n",
       "      <td>2016-02-01 00:27:58</td>\n",
       "      <td>0</td>\n",
       "      <td>-74.014488</td>\n",
       "      <td>40.708229</td>\n",
       "      <td>-74.014488</td>\n",
       "      <td>40.708229</td>\n",
       "      <td>0</td>\n",
       "      <td>45</td>\n",
       "      <td>45.0</td>\n",
       "      <td>3.828641</td>\n",
       "      <td>0</td>\n",
       "      <td>0</td>\n",
       "    </tr>\n",
       "    <tr>\n",
       "      <th>506457</th>\n",
       "      <td>id2613392</td>\n",
       "      <td>2</td>\n",
       "      <td>2016-03-31 22:25:35</td>\n",
       "      <td>2016-03-31 22:25:42</td>\n",
       "      <td>0</td>\n",
       "      <td>-74.010307</td>\n",
       "      <td>40.718697</td>\n",
       "      <td>-74.010330</td>\n",
       "      <td>40.718651</td>\n",
       "      <td>0</td>\n",
       "      <td>7</td>\n",
       "      <td>7.0</td>\n",
       "      <td>2.079442</td>\n",
       "      <td>3</td>\n",
       "      <td>22</td>\n",
       "    </tr>\n",
       "    <tr>\n",
       "      <th>512767</th>\n",
       "      <td>id1794493</td>\n",
       "      <td>2</td>\n",
       "      <td>2016-03-20 01:25:42</td>\n",
       "      <td>2016-03-20 01:26:04</td>\n",
       "      <td>0</td>\n",
       "      <td>-73.995094</td>\n",
       "      <td>40.760296</td>\n",
       "      <td>-73.995064</td>\n",
       "      <td>40.760284</td>\n",
       "      <td>0</td>\n",
       "      <td>22</td>\n",
       "      <td>22.0</td>\n",
       "      <td>3.135494</td>\n",
       "      <td>6</td>\n",
       "      <td>1</td>\n",
       "    </tr>\n",
       "    <tr>\n",
       "      <th>533760</th>\n",
       "      <td>id0948644</td>\n",
       "      <td>2</td>\n",
       "      <td>2016-02-22 00:40:25</td>\n",
       "      <td>2016-02-22 00:40:26</td>\n",
       "      <td>0</td>\n",
       "      <td>-73.987595</td>\n",
       "      <td>40.719997</td>\n",
       "      <td>-73.987595</td>\n",
       "      <td>40.720005</td>\n",
       "      <td>0</td>\n",
       "      <td>1</td>\n",
       "      <td>1.0</td>\n",
       "      <td>0.693147</td>\n",
       "      <td>0</td>\n",
       "      <td>0</td>\n",
       "    </tr>\n",
       "    <tr>\n",
       "      <th>540189</th>\n",
       "      <td>id3493269</td>\n",
       "      <td>2</td>\n",
       "      <td>2016-01-14 19:09:41</td>\n",
       "      <td>2016-01-14 19:09:48</td>\n",
       "      <td>0</td>\n",
       "      <td>-73.904709</td>\n",
       "      <td>40.758099</td>\n",
       "      <td>-73.904716</td>\n",
       "      <td>40.758148</td>\n",
       "      <td>0</td>\n",
       "      <td>7</td>\n",
       "      <td>7.0</td>\n",
       "      <td>2.079442</td>\n",
       "      <td>3</td>\n",
       "      <td>19</td>\n",
       "    </tr>\n",
       "    <tr>\n",
       "      <th>541539</th>\n",
       "      <td>id1610720</td>\n",
       "      <td>2</td>\n",
       "      <td>2016-03-13 14:08:20</td>\n",
       "      <td>2016-03-13 14:08:28</td>\n",
       "      <td>0</td>\n",
       "      <td>-73.922081</td>\n",
       "      <td>40.636040</td>\n",
       "      <td>-73.922081</td>\n",
       "      <td>40.636040</td>\n",
       "      <td>0</td>\n",
       "      <td>8</td>\n",
       "      <td>8.0</td>\n",
       "      <td>2.197225</td>\n",
       "      <td>6</td>\n",
       "      <td>14</td>\n",
       "    </tr>\n",
       "    <tr>\n",
       "      <th>568782</th>\n",
       "      <td>id3533680</td>\n",
       "      <td>1</td>\n",
       "      <td>2016-01-10 04:17:21</td>\n",
       "      <td>2016-01-10 04:17:24</td>\n",
       "      <td>0</td>\n",
       "      <td>-73.993195</td>\n",
       "      <td>40.598701</td>\n",
       "      <td>-73.993195</td>\n",
       "      <td>40.598701</td>\n",
       "      <td>0</td>\n",
       "      <td>3</td>\n",
       "      <td>3.0</td>\n",
       "      <td>1.386294</td>\n",
       "      <td>6</td>\n",
       "      <td>4</td>\n",
       "    </tr>\n",
       "    <tr>\n",
       "      <th>592303</th>\n",
       "      <td>id2154895</td>\n",
       "      <td>1</td>\n",
       "      <td>2016-05-23 23:37:37</td>\n",
       "      <td>2016-05-23 23:37:45</td>\n",
       "      <td>0</td>\n",
       "      <td>-73.861633</td>\n",
       "      <td>40.705029</td>\n",
       "      <td>-73.861633</td>\n",
       "      <td>40.705029</td>\n",
       "      <td>0</td>\n",
       "      <td>8</td>\n",
       "      <td>8.0</td>\n",
       "      <td>2.197225</td>\n",
       "      <td>0</td>\n",
       "      <td>23</td>\n",
       "    </tr>\n",
       "    <tr>\n",
       "      <th>668368</th>\n",
       "      <td>id0271506</td>\n",
       "      <td>2</td>\n",
       "      <td>2016-05-22 00:23:15</td>\n",
       "      <td>2016-05-22 00:23:56</td>\n",
       "      <td>0</td>\n",
       "      <td>-73.956718</td>\n",
       "      <td>40.777142</td>\n",
       "      <td>-73.956764</td>\n",
       "      <td>40.776958</td>\n",
       "      <td>0</td>\n",
       "      <td>41</td>\n",
       "      <td>41.0</td>\n",
       "      <td>3.737670</td>\n",
       "      <td>6</td>\n",
       "      <td>0</td>\n",
       "    </tr>\n",
       "    <tr>\n",
       "      <th>711013</th>\n",
       "      <td>id2957383</td>\n",
       "      <td>1</td>\n",
       "      <td>2016-05-20 03:22:01</td>\n",
       "      <td>2016-05-20 03:23:09</td>\n",
       "      <td>0</td>\n",
       "      <td>-74.005341</td>\n",
       "      <td>40.871922</td>\n",
       "      <td>-74.006096</td>\n",
       "      <td>40.872318</td>\n",
       "      <td>1</td>\n",
       "      <td>68</td>\n",
       "      <td>68.0</td>\n",
       "      <td>4.234107</td>\n",
       "      <td>4</td>\n",
       "      <td>3</td>\n",
       "    </tr>\n",
       "  </tbody>\n",
       "</table>\n",
       "</div>"
      ],
      "text/plain": [
       "               id  vendor_id     pickup_datetime    dropoff_datetime  \\\n",
       "3572    id3364866          1 2016-02-13 14:04:20 2016-02-13 14:21:29   \n",
       "23847   id3485118          1 2016-05-11 19:15:57 2016-05-11 19:32:18   \n",
       "45987   id2571672          1 2016-03-06 05:24:55 2016-03-06 05:25:00   \n",
       "76998   id1253169          1 2016-02-28 01:08:48 2016-02-28 01:09:01   \n",
       "101709  id1220914          2 2016-01-17 20:51:55 2016-01-17 20:52:43   \n",
       "186050  id3645383          2 2016-01-01 05:01:32 2016-01-01 05:01:36   \n",
       "186913  id3494250          1 2016-04-02 02:32:10 2016-04-02 02:50:51   \n",
       "194926  id1205792          1 2016-03-11 12:33:17 2016-03-11 13:09:48   \n",
       "231010  id0959777          2 2016-03-01 19:11:26 2016-03-01 19:11:30   \n",
       "247692  id2891366          1 2016-02-18 21:26:15 2016-02-18 21:28:00   \n",
       "272114  id0878599          1 2016-01-25 08:46:58 2016-01-25 09:41:01   \n",
       "315015  id1846091          2 2016-01-16 00:50:18 2016-01-16 00:51:36   \n",
       "319175  id2247129          2 2016-01-13 11:50:12 2016-01-13 12:16:08   \n",
       "329274  id3762593          1 2016-01-04 12:24:17 2016-01-04 13:01:48   \n",
       "333621  id2029944          1 2016-03-11 09:38:54 2016-03-11 09:38:57   \n",
       "344350  id1376024          1 2016-04-01 16:10:32 2016-04-01 16:11:01   \n",
       "370723  id3347660          2 2016-05-29 01:26:30 2016-05-29 01:26:49   \n",
       "377817  id3368191          1 2016-05-08 23:38:09 2016-05-08 23:38:21   \n",
       "378238  id1593144          1 2016-01-08 21:55:27 2016-01-08 22:01:52   \n",
       "407850  id3267095          2 2016-02-13 01:33:02 2016-02-13 01:33:06   \n",
       "423670  id0662963          2 2016-02-13 04:41:13 2016-02-13 04:41:22   \n",
       "427067  id1656232          1 2016-04-21 06:04:56 2016-04-21 06:05:18   \n",
       "476153  id0796773          1 2016-02-07 17:23:48 2016-02-07 17:23:57   \n",
       "501596  id3066152          1 2016-02-01 00:27:13 2016-02-01 00:27:58   \n",
       "506457  id2613392          2 2016-03-31 22:25:35 2016-03-31 22:25:42   \n",
       "512767  id1794493          2 2016-03-20 01:25:42 2016-03-20 01:26:04   \n",
       "533760  id0948644          2 2016-02-22 00:40:25 2016-02-22 00:40:26   \n",
       "540189  id3493269          2 2016-01-14 19:09:41 2016-01-14 19:09:48   \n",
       "541539  id1610720          2 2016-03-13 14:08:20 2016-03-13 14:08:28   \n",
       "568782  id3533680          1 2016-01-10 04:17:21 2016-01-10 04:17:24   \n",
       "592303  id2154895          1 2016-05-23 23:37:37 2016-05-23 23:37:45   \n",
       "668368  id0271506          2 2016-05-22 00:23:15 2016-05-22 00:23:56   \n",
       "711013  id2957383          1 2016-05-20 03:22:01 2016-05-20 03:23:09   \n",
       "\n",
       "        passenger_count  pickup_longitude  pickup_latitude  dropoff_longitude  \\\n",
       "3572                  0        -73.990479        40.742004         -73.989243   \n",
       "23847                 0        -73.987572        40.754566         -73.972031   \n",
       "45987                 0        -73.979698        40.761196         -73.979698   \n",
       "76998                 0        -74.035942        40.736488         -74.035942   \n",
       "101709                0        -73.959999        40.766861         -73.960106   \n",
       "186050                0        -73.993134        40.757473         -73.993294   \n",
       "186913                0        -74.005089        40.729038         -74.032486   \n",
       "194926                0        -73.982063        40.763798         -74.188072   \n",
       "231010                0        -74.003777        40.738186         -74.003807   \n",
       "247692                0        -73.983543        40.716404         -73.983543   \n",
       "272114                0        -73.928078        40.736412         -73.985519   \n",
       "315015                0        -73.919167        40.686878         -73.919151   \n",
       "319175                0        -73.965027        40.775269         -73.973450   \n",
       "329274                0        -73.815224        40.700081         -73.950699   \n",
       "333621                0        -73.790398        40.655457         -73.790398   \n",
       "344350                0        -73.951973        40.733479         -73.951996   \n",
       "370723                0        -73.932732        40.856438         -73.932762   \n",
       "377817                0        -73.934937        40.740841         -73.934929   \n",
       "378238                0        -73.980957        40.742142         -73.986122   \n",
       "407850                0        -73.979118        40.760181         -73.979111   \n",
       "423670                0        -73.945633        40.803673         -73.945625   \n",
       "427067                0        -73.978149        40.750183         -73.978104   \n",
       "476153                0        -73.954941        40.687866         -73.954742   \n",
       "501596                0        -74.014488        40.708229         -74.014488   \n",
       "506457                0        -74.010307        40.718697         -74.010330   \n",
       "512767                0        -73.995094        40.760296         -73.995064   \n",
       "533760                0        -73.987595        40.719997         -73.987595   \n",
       "540189                0        -73.904709        40.758099         -73.904716   \n",
       "541539                0        -73.922081        40.636040         -73.922081   \n",
       "568782                0        -73.993195        40.598701         -73.993195   \n",
       "592303                0        -73.861633        40.705029         -73.861633   \n",
       "668368                0        -73.956718        40.777142         -73.956764   \n",
       "711013                0        -74.005341        40.871922         -74.006096   \n",
       "\n",
       "        dropoff_latitude  store_and_fwd_flag  trip_duration  \\\n",
       "3572           40.763680                   0           1029   \n",
       "23847          40.762836                   0            981   \n",
       "45987          40.761196                   1              5   \n",
       "76998          40.736492                   0             13   \n",
       "101709         40.766911                   0             48   \n",
       "186050         40.757538                   0              4   \n",
       "186913         40.619579                   0           1121   \n",
       "194926         40.694042                   0           2191   \n",
       "231010         40.738174                   0              4   \n",
       "247692         40.716404                   0            105   \n",
       "272114         40.758972                   0           3243   \n",
       "315015         40.686874                   0             78   \n",
       "319175         40.840618                   0           1556   \n",
       "329274         40.755222                   0           2251   \n",
       "333621         40.655457                   0              3   \n",
       "344350         40.733471                   0             29   \n",
       "370723         40.856438                   0             19   \n",
       "377817         40.740837                   0             12   \n",
       "378238         40.729488                   0            385   \n",
       "407850         40.760159                   0              4   \n",
       "423670         40.803661                   0              9   \n",
       "427067         40.750477                   0             22   \n",
       "476153         40.687862                   0              9   \n",
       "501596         40.708229                   0             45   \n",
       "506457         40.718651                   0              7   \n",
       "512767         40.760284                   0             22   \n",
       "533760         40.720005                   0              1   \n",
       "540189         40.758148                   0              7   \n",
       "541539         40.636040                   0              8   \n",
       "568782         40.598701                   0              3   \n",
       "592303         40.705029                   0              8   \n",
       "668368         40.776958                   0             41   \n",
       "711013         40.872318                   1             68   \n",
       "\n",
       "        check_trip_duration  trip_duration_log  dayofweek  hourofday  \n",
       "3572                 1029.0           6.937314          5         14  \n",
       "23847                 981.0           6.889591          2         19  \n",
       "45987                   5.0           1.791759          6          5  \n",
       "76998                  13.0           2.639057          6          1  \n",
       "101709                 48.0           3.891820          6         20  \n",
       "186050                  4.0           1.609438          4          5  \n",
       "186913               1121.0           7.022868          5          2  \n",
       "194926               2191.0           7.692570          4         12  \n",
       "231010                  4.0           1.609438          1         19  \n",
       "247692                105.0           4.663439          3         21  \n",
       "272114               3243.0           8.084562          0          8  \n",
       "315015                 78.0           4.369448          5          0  \n",
       "319175               1556.0           7.350516          2         11  \n",
       "329274               2251.0           7.719574          0         12  \n",
       "333621                  3.0           1.386294          4          9  \n",
       "344350                 29.0           3.401197          4         16  \n",
       "370723                 19.0           2.995732          6          1  \n",
       "377817                 12.0           2.564949          6         23  \n",
       "378238                385.0           5.955837          4         21  \n",
       "407850                  4.0           1.609438          5          1  \n",
       "423670                  9.0           2.302585          5          4  \n",
       "427067                 22.0           3.135494          3          6  \n",
       "476153                  9.0           2.302585          6         17  \n",
       "501596                 45.0           3.828641          0          0  \n",
       "506457                  7.0           2.079442          3         22  \n",
       "512767                 22.0           3.135494          6          1  \n",
       "533760                  1.0           0.693147          0          0  \n",
       "540189                  7.0           2.079442          3         19  \n",
       "541539                  8.0           2.197225          6         14  \n",
       "568782                  3.0           1.386294          6          4  \n",
       "592303                  8.0           2.197225          0         23  \n",
       "668368                 41.0           3.737670          6          0  \n",
       "711013                 68.0           4.234107          4          3  "
      ]
     },
     "execution_count": 43,
     "metadata": {},
     "output_type": "execute_result"
    }
   ],
   "source": [
    "df[df['passenger_count'] < 1]"
   ]
  },
  {
   "cell_type": "markdown",
   "id": "2d66a5c7",
   "metadata": {},
   "source": [
    "Some trips contains 0 passengers and that needs to be removed for better analysis."
   ]
  },
  {
   "cell_type": "code",
   "execution_count": 44,
   "id": "c3acd01a",
   "metadata": {},
   "outputs": [],
   "source": [
    "df = df[df['passenger_count'] >= 1]"
   ]
  },
  {
   "cell_type": "code",
   "execution_count": 45,
   "id": "04ad9b4d",
   "metadata": {},
   "outputs": [
    {
     "data": {
      "image/png": "[encoded data removed]",
      "text/plain": [
       "<Figure size 360x360 with 1 Axes>"
      ]
     },
     "metadata": {},
     "output_type": "display_data"
    }
   ],
   "source": [
    "sns.relplot(x='passenger_count',y='trip_duration',data=df,kind='scatter')\n",
    "plt.title('Relationship between passenger_count and trip_duration')\n",
    "plt.show()"
   ]
  },
  {
   "cell_type": "markdown",
   "id": "127c045d",
   "metadata": {},
   "source": [
    "From the plot, there exists no relationship between passenger_count and trip_duration. Even if the passenger count is high there are no records of long duration trips."
   ]
  },
  {
   "cell_type": "code",
   "execution_count": 46,
   "id": "27117717",
   "metadata": {},
   "outputs": [
    {
     "data": {
      "text/plain": [
       "<seaborn.axisgrid.FacetGrid at 0x1ef96a97610>"
      ]
     },
     "execution_count": 46,
     "metadata": {},
     "output_type": "execute_result"
    },
    {
     "data": {
      "image/png": "[encoded data removed]",
      "text/plain": [
       "<Figure size 360x360 with 1 Axes>"
      ]
     },
     "metadata": {},
     "output_type": "display_data"
    }
   ],
   "source": [
    "sns.catplot(x='store_and_fwd_flag',y='trip_duration',kind='strip',data=df)"
   ]
  },
  {
   "cell_type": "markdown",
   "id": "c2709292",
   "metadata": {},
   "source": [
    "Only short distances trips had connection issues with the server."
   ]
  },
  {
   "cell_type": "code",
   "execution_count": 48,
   "id": "4f5db5c5",
   "metadata": {},
   "outputs": [
    {
     "data": {
      "text/plain": [
       "<seaborn.axisgrid.FacetGrid at 0x1effe443a90>"
      ]
     },
     "execution_count": 48,
     "metadata": {},
     "output_type": "execute_result"
    },
    {
     "data": {
      "image/png": "[encoded data removed]",
      "text/plain": [
       "<Figure size 360x360 with 1 Axes>"
      ]
     },
     "metadata": {},
     "output_type": "display_data"
    }
   ],
   "source": [
    "sns.catplot(x='vendor_id',y='trip_duration',kind='strip',data=df)"
   ]
  },
  {
   "cell_type": "markdown",
   "id": "438368e7",
   "metadata": {},
   "source": [
    "From the plot we can say that Vendor 1 provides cabs only for short distance trips. Vendor 2 provides cab for all kind of trips."
   ]
  },
  {
   "cell_type": "code",
   "execution_count": 52,
   "id": "1950d721",
   "metadata": {},
   "outputs": [
    {
     "data": {
      "text/plain": [
       "<seaborn.axisgrid.FacetGrid at 0x1f013b27b80>"
      ]
     },
     "execution_count": 52,
     "metadata": {},
     "output_type": "execute_result"
    },
    {
     "data": {
      "image/png": "[encoded data removed]",
      "text/plain": [
       "<Figure size 360x360 with 1 Axes>"
      ]
     },
     "metadata": {},
     "output_type": "display_data"
    }
   ],
   "source": [
    "sns.catplot(x='hourofday',y='trip_duration',data=df,kind ='bar')"
   ]
  },
  {
   "cell_type": "code",
   "execution_count": 53,
   "id": "8acf7c06",
   "metadata": {},
   "outputs": [
    {
     "data": {
      "text/plain": [
       "<seaborn.axisgrid.FacetGrid at 0x1ef96a1e970>"
      ]
     },
     "execution_count": 53,
     "metadata": {},
     "output_type": "execute_result"
    },
    {
     "data": {
      "image/png": "[encoded data removed]",
      "text/plain": [
       "<Figure size 360x360 with 1 Axes>"
      ]
     },
     "metadata": {},
     "output_type": "display_data"
    }
   ],
   "source": [
    "df['hour_ofday'] = df['dropoff_datetime'].dt.hour\n",
    "sns.catplot(x='hour_ofday',y='trip_duration',data=df,kind ='bar')"
   ]
  },
  {
   "cell_type": "code",
   "execution_count": 57,
   "id": "88d48cc2",
   "metadata": {},
   "outputs": [
    {
     "data": {
      "text/plain": [
       "<seaborn.axisgrid.FacetGrid at 0x1ef86fe9190>"
      ]
     },
     "execution_count": 57,
     "metadata": {},
     "output_type": "execute_result"
    },
    {
     "data": {
      "image/png": "[encoded data removed]",
      "text/plain": [
       "<Figure size 360x360 with 1 Axes>"
      ]
     },
     "metadata": {},
     "output_type": "display_data"
    }
   ],
   "source": [
    "sns.catplot(x='dayofweek',y='trip_duration',data=df,kind ='bar',orient='vertical')"
   ]
  },
  {
   "cell_type": "code",
   "execution_count": 58,
   "id": "5e21f670",
   "metadata": {},
   "outputs": [
    {
     "data": {
      "text/plain": [
       "<seaborn.axisgrid.FacetGrid at 0x1ef86fd6b80>"
      ]
     },
     "execution_count": 58,
     "metadata": {},
     "output_type": "execute_result"
    },
    {
     "data": {
      "image/png": "[encoded data removed]",
      "text/plain": [
       "<Figure size 360x360 with 1 Axes>"
      ]
     },
     "metadata": {},
     "output_type": "display_data"
    }
   ],
   "source": [
    "df['day_week'] = df['dropoff_datetime'].dt.weekday\n",
    "sns.catplot(x='day_week',y='trip_duration',data=df,kind ='bar',orient='vertical')"
   ]
  },
  {
   "cell_type": "markdown",
   "id": "c9224a78",
   "metadata": {},
   "source": [
    "Thus the highest avg time taken to complete a trip is on Wednesday and Thursday. "
   ]
  },
  {
   "cell_type": "code",
   "execution_count": null,
   "id": "9d6a439f",
   "metadata": {},
   "outputs": [],
   "source": []
  }
 ],
 "metadata": {
  "kernelspec": {
   "display_name": "Python 3 (ipykernel)",
   "language": "python",
   "name": "python3"
  },
  "language_info": {
   "codemirror_mode": {
    "name": "ipython",
    "version": 3
   },
   "file_extension": ".py",
   "mimetype": "text/x-python",
   "name": "python",
   "nbconvert_exporter": "python",
   "pygments_lexer": "ipython3",
   "version": "3.9.7"
  }
 },
 "nbformat": 4,
 "nbformat_minor": 5
}
